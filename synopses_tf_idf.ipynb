{
 "cells": [
  {
   "cell_type": "code",
   "execution_count": 1,
   "metadata": {},
   "outputs": [],
   "source": [
    "import re\n",
    "import json\n",
    "\n",
    "import requests\n",
    "import scrapy\n",
    "\n",
    "import numpy as np\n",
    "\n",
    "import pandas as pd\n",
    "\n",
    "import nltk\n",
    "from nltk.corpus import stopwords\n",
    "from nltk.tokenize import word_tokenize\n",
    "from nltk.stem import WordNetLemmatizer\n",
    "\n",
    "from sklearn.metrics.pairwise import cosine_similarity\n",
    "from sklearn.feature_extraction.text import TfidfVectorizer"
   ]
  },
  {
   "cell_type": "code",
   "execution_count": 2,
   "metadata": {},
   "outputs": [
    {
     "name": "stdout",
     "output_type": "stream",
     "text": [
      "showing info https://raw.githubusercontent.com/nltk/nltk_data/gh-pages/index.xml\n"
     ]
    },
    {
     "data": {
      "text/plain": [
       "True"
      ]
     },
     "execution_count": 2,
     "metadata": {},
     "output_type": "execute_result"
    }
   ],
   "source": [
    "nltk.download()"
   ]
  },
  {
   "cell_type": "code",
   "execution_count": 3,
   "metadata": {},
   "outputs": [],
   "source": [
    "#nltk.download(['punkt', 'stopwords', 'wordnet', 'omw-1.4']) #download all the necessary packages\n",
    "#nltk.download()"
   ]
  },
  {
   "cell_type": "code",
   "execution_count": 4,
   "metadata": {},
   "outputs": [],
   "source": [
    "df = pd.read_csv('data/anime_with_synopsis.csv', index_col='MAL_ID', dtype=str)"
   ]
  },
  {
   "cell_type": "code",
   "execution_count": 5,
   "metadata": {},
   "outputs": [],
   "source": [
    "pattern = re.compile(r'[^a-z0-9]+')"
   ]
  },
  {
   "cell_type": "code",
   "execution_count": 6,
   "metadata": {},
   "outputs": [],
   "source": [
    "df.sypnopsis = df.sypnopsis.apply(lambda x: pattern.sub(' ', str(x).lower()))\n",
    "df.sypnopsis = df.sypnopsis.apply(word_tokenize)"
   ]
  },
  {
   "cell_type": "code",
   "execution_count": 7,
   "metadata": {},
   "outputs": [],
   "source": [
    "stop_words = stopwords.words('english')"
   ]
  },
  {
   "cell_type": "code",
   "execution_count": 8,
   "metadata": {},
   "outputs": [],
   "source": [
    "df.sypnopsis = df.sypnopsis.apply(lambda sypnopsis: [word for word in sypnopsis if word not in stop_words])"
   ]
  },
  {
   "cell_type": "code",
   "execution_count": 9,
   "metadata": {},
   "outputs": [],
   "source": [
    "lemmatizer = WordNetLemmatizer()\n",
    "\n",
    "def lemmatize(token, pos='nvars'):\n",
    "    for p in pos:\n",
    "        lemma = lemmatizer.lemmatize(token, pos=p)\n",
    "        if lemma != token:\n",
    "            return lemma\n",
    "    return token"
   ]
  },
  {
   "cell_type": "code",
   "execution_count": 10,
   "metadata": {},
   "outputs": [],
   "source": [
    "df.sypnopsis = df.sypnopsis.apply(lambda words: [lemmatize(w) for w in words])"
   ]
  },
  {
   "cell_type": "code",
   "execution_count": 11,
   "metadata": {},
   "outputs": [],
   "source": [
    "df.sypnopsis = df.sypnopsis.apply(lambda words: ' '.join(words))"
   ]
  },
  {
   "cell_type": "code",
   "execution_count": 12,
   "metadata": {},
   "outputs": [],
   "source": [
    "tfidf = TfidfVectorizer(min_df=2, max_df=0.75)"
   ]
  },
  {
   "cell_type": "code",
   "execution_count": 13,
   "metadata": {},
   "outputs": [],
   "source": [
    "vec_data = tfidf.fit_transform(df.sypnopsis)"
   ]
  },
  {
   "cell_type": "code",
   "execution_count": 14,
   "metadata": {},
   "outputs": [],
   "source": [
    "cos_sim = cosine_similarity(vec_data)\n",
    "cos_sim = pd.DataFrame(cos_sim, index=df.index, columns=df.index)"
   ]
  },
  {
   "cell_type": "code",
   "execution_count": 15,
   "metadata": {},
   "outputs": [
    {
     "data": {
      "text/plain": [
       "Int64Index([    1,     5,     6,     7,     8,    15,    16,    17,    18,\n",
       "               19,\n",
       "            ...\n",
       "            48456, 48466, 48470, 48471, 48480, 48481, 48483, 48488, 48491,\n",
       "            48492],\n",
       "           dtype='int64', name='MAL_ID', length=16214)"
      ]
     },
     "execution_count": 15,
     "metadata": {},
     "output_type": "execute_result"
    }
   ],
   "source": [
    "cos_sim.index"
   ]
  },
  {
   "cell_type": "code",
   "execution_count": 17,
   "metadata": {},
   "outputs": [
    {
     "data": {
      "text/html": [
       "<div>\n",
       "<style scoped>\n",
       "    .dataframe tbody tr th:only-of-type {\n",
       "        vertical-align: middle;\n",
       "    }\n",
       "\n",
       "    .dataframe tbody tr th {\n",
       "        vertical-align: top;\n",
       "    }\n",
       "\n",
       "    .dataframe thead th {\n",
       "        text-align: right;\n",
       "    }\n",
       "</style>\n",
       "<table border=\"1\" class=\"dataframe\">\n",
       "  <thead>\n",
       "    <tr style=\"text-align: right;\">\n",
       "      <th>MAL_ID</th>\n",
       "      <th>1</th>\n",
       "      <th>5</th>\n",
       "      <th>6</th>\n",
       "      <th>7</th>\n",
       "      <th>8</th>\n",
       "      <th>15</th>\n",
       "      <th>16</th>\n",
       "      <th>17</th>\n",
       "      <th>18</th>\n",
       "      <th>19</th>\n",
       "      <th>...</th>\n",
       "      <th>48456</th>\n",
       "      <th>48466</th>\n",
       "      <th>48470</th>\n",
       "      <th>48471</th>\n",
       "      <th>48480</th>\n",
       "      <th>48481</th>\n",
       "      <th>48483</th>\n",
       "      <th>48488</th>\n",
       "      <th>48491</th>\n",
       "      <th>48492</th>\n",
       "    </tr>\n",
       "    <tr>\n",
       "      <th>MAL_ID</th>\n",
       "      <th></th>\n",
       "      <th></th>\n",
       "      <th></th>\n",
       "      <th></th>\n",
       "      <th></th>\n",
       "      <th></th>\n",
       "      <th></th>\n",
       "      <th></th>\n",
       "      <th></th>\n",
       "      <th></th>\n",
       "      <th></th>\n",
       "      <th></th>\n",
       "      <th></th>\n",
       "      <th></th>\n",
       "      <th></th>\n",
       "      <th></th>\n",
       "      <th></th>\n",
       "      <th></th>\n",
       "      <th></th>\n",
       "      <th></th>\n",
       "      <th></th>\n",
       "    </tr>\n",
       "  </thead>\n",
       "  <tbody>\n",
       "    <tr>\n",
       "      <th>1</th>\n",
       "      <td>1.000000</td>\n",
       "      <td>0.271822</td>\n",
       "      <td>0.046490</td>\n",
       "      <td>0.031206</td>\n",
       "      <td>0.012403</td>\n",
       "      <td>0.027094</td>\n",
       "      <td>0.012781</td>\n",
       "      <td>0.023231</td>\n",
       "      <td>0.025364</td>\n",
       "      <td>0.015156</td>\n",
       "      <td>...</td>\n",
       "      <td>0.000000</td>\n",
       "      <td>0.006996</td>\n",
       "      <td>0.017145</td>\n",
       "      <td>0.008457</td>\n",
       "      <td>0.000000</td>\n",
       "      <td>0.000000</td>\n",
       "      <td>0.020457</td>\n",
       "      <td>0.0</td>\n",
       "      <td>0.010168</td>\n",
       "      <td>0.052264</td>\n",
       "    </tr>\n",
       "    <tr>\n",
       "      <th>5</th>\n",
       "      <td>0.271822</td>\n",
       "      <td>1.000000</td>\n",
       "      <td>0.044624</td>\n",
       "      <td>0.033449</td>\n",
       "      <td>0.007127</td>\n",
       "      <td>0.031560</td>\n",
       "      <td>0.038316</td>\n",
       "      <td>0.018972</td>\n",
       "      <td>0.017261</td>\n",
       "      <td>0.020030</td>\n",
       "      <td>...</td>\n",
       "      <td>0.000000</td>\n",
       "      <td>0.018414</td>\n",
       "      <td>0.016502</td>\n",
       "      <td>0.003167</td>\n",
       "      <td>0.000000</td>\n",
       "      <td>0.000000</td>\n",
       "      <td>0.020811</td>\n",
       "      <td>0.0</td>\n",
       "      <td>0.000000</td>\n",
       "      <td>0.013498</td>\n",
       "    </tr>\n",
       "    <tr>\n",
       "      <th>6</th>\n",
       "      <td>0.046490</td>\n",
       "      <td>0.044624</td>\n",
       "      <td>1.000000</td>\n",
       "      <td>0.000000</td>\n",
       "      <td>0.010547</td>\n",
       "      <td>0.005848</td>\n",
       "      <td>0.009973</td>\n",
       "      <td>0.008917</td>\n",
       "      <td>0.000000</td>\n",
       "      <td>0.026231</td>\n",
       "      <td>...</td>\n",
       "      <td>0.000000</td>\n",
       "      <td>0.016119</td>\n",
       "      <td>0.025739</td>\n",
       "      <td>0.009053</td>\n",
       "      <td>0.013714</td>\n",
       "      <td>0.013714</td>\n",
       "      <td>0.011155</td>\n",
       "      <td>0.0</td>\n",
       "      <td>0.000000</td>\n",
       "      <td>0.006880</td>\n",
       "    </tr>\n",
       "    <tr>\n",
       "      <th>7</th>\n",
       "      <td>0.031206</td>\n",
       "      <td>0.033449</td>\n",
       "      <td>0.000000</td>\n",
       "      <td>1.000000</td>\n",
       "      <td>0.009356</td>\n",
       "      <td>0.031251</td>\n",
       "      <td>0.010091</td>\n",
       "      <td>0.033333</td>\n",
       "      <td>0.015767</td>\n",
       "      <td>0.016795</td>\n",
       "      <td>...</td>\n",
       "      <td>0.025568</td>\n",
       "      <td>0.059329</td>\n",
       "      <td>0.022586</td>\n",
       "      <td>0.016189</td>\n",
       "      <td>0.000000</td>\n",
       "      <td>0.000000</td>\n",
       "      <td>0.018762</td>\n",
       "      <td>0.0</td>\n",
       "      <td>0.000000</td>\n",
       "      <td>0.008187</td>\n",
       "    </tr>\n",
       "    <tr>\n",
       "      <th>8</th>\n",
       "      <td>0.012403</td>\n",
       "      <td>0.007127</td>\n",
       "      <td>0.010547</td>\n",
       "      <td>0.009356</td>\n",
       "      <td>1.000000</td>\n",
       "      <td>0.055794</td>\n",
       "      <td>0.016077</td>\n",
       "      <td>0.023808</td>\n",
       "      <td>0.007991</td>\n",
       "      <td>0.014273</td>\n",
       "      <td>...</td>\n",
       "      <td>0.000000</td>\n",
       "      <td>0.042606</td>\n",
       "      <td>0.010340</td>\n",
       "      <td>0.005697</td>\n",
       "      <td>0.000000</td>\n",
       "      <td>0.000000</td>\n",
       "      <td>0.020261</td>\n",
       "      <td>0.0</td>\n",
       "      <td>0.000000</td>\n",
       "      <td>0.019289</td>\n",
       "    </tr>\n",
       "    <tr>\n",
       "      <th>...</th>\n",
       "      <td>...</td>\n",
       "      <td>...</td>\n",
       "      <td>...</td>\n",
       "      <td>...</td>\n",
       "      <td>...</td>\n",
       "      <td>...</td>\n",
       "      <td>...</td>\n",
       "      <td>...</td>\n",
       "      <td>...</td>\n",
       "      <td>...</td>\n",
       "      <td>...</td>\n",
       "      <td>...</td>\n",
       "      <td>...</td>\n",
       "      <td>...</td>\n",
       "      <td>...</td>\n",
       "      <td>...</td>\n",
       "      <td>...</td>\n",
       "      <td>...</td>\n",
       "      <td>...</td>\n",
       "      <td>...</td>\n",
       "      <td>...</td>\n",
       "    </tr>\n",
       "    <tr>\n",
       "      <th>48481</th>\n",
       "      <td>0.000000</td>\n",
       "      <td>0.000000</td>\n",
       "      <td>0.013714</td>\n",
       "      <td>0.000000</td>\n",
       "      <td>0.000000</td>\n",
       "      <td>0.012348</td>\n",
       "      <td>0.000000</td>\n",
       "      <td>0.000000</td>\n",
       "      <td>0.034163</td>\n",
       "      <td>0.000000</td>\n",
       "      <td>...</td>\n",
       "      <td>0.000000</td>\n",
       "      <td>0.000000</td>\n",
       "      <td>0.000000</td>\n",
       "      <td>0.000000</td>\n",
       "      <td>1.000000</td>\n",
       "      <td>1.000000</td>\n",
       "      <td>0.000000</td>\n",
       "      <td>0.0</td>\n",
       "      <td>0.000000</td>\n",
       "      <td>0.000000</td>\n",
       "    </tr>\n",
       "    <tr>\n",
       "      <th>48483</th>\n",
       "      <td>0.020457</td>\n",
       "      <td>0.020811</td>\n",
       "      <td>0.011155</td>\n",
       "      <td>0.018762</td>\n",
       "      <td>0.020261</td>\n",
       "      <td>0.040134</td>\n",
       "      <td>0.024941</td>\n",
       "      <td>0.009443</td>\n",
       "      <td>0.028785</td>\n",
       "      <td>0.045575</td>\n",
       "      <td>...</td>\n",
       "      <td>0.000000</td>\n",
       "      <td>0.000000</td>\n",
       "      <td>0.039570</td>\n",
       "      <td>0.031597</td>\n",
       "      <td>0.000000</td>\n",
       "      <td>0.000000</td>\n",
       "      <td>1.000000</td>\n",
       "      <td>0.0</td>\n",
       "      <td>0.000000</td>\n",
       "      <td>0.010758</td>\n",
       "    </tr>\n",
       "    <tr>\n",
       "      <th>48488</th>\n",
       "      <td>0.000000</td>\n",
       "      <td>0.000000</td>\n",
       "      <td>0.000000</td>\n",
       "      <td>0.000000</td>\n",
       "      <td>0.000000</td>\n",
       "      <td>0.000000</td>\n",
       "      <td>0.000000</td>\n",
       "      <td>0.000000</td>\n",
       "      <td>0.000000</td>\n",
       "      <td>0.000000</td>\n",
       "      <td>...</td>\n",
       "      <td>0.000000</td>\n",
       "      <td>0.000000</td>\n",
       "      <td>0.000000</td>\n",
       "      <td>0.000000</td>\n",
       "      <td>0.000000</td>\n",
       "      <td>0.000000</td>\n",
       "      <td>0.000000</td>\n",
       "      <td>1.0</td>\n",
       "      <td>0.000000</td>\n",
       "      <td>0.000000</td>\n",
       "    </tr>\n",
       "    <tr>\n",
       "      <th>48491</th>\n",
       "      <td>0.010168</td>\n",
       "      <td>0.000000</td>\n",
       "      <td>0.000000</td>\n",
       "      <td>0.000000</td>\n",
       "      <td>0.000000</td>\n",
       "      <td>0.000000</td>\n",
       "      <td>0.000000</td>\n",
       "      <td>0.016793</td>\n",
       "      <td>0.000000</td>\n",
       "      <td>0.000000</td>\n",
       "      <td>...</td>\n",
       "      <td>0.000000</td>\n",
       "      <td>0.000000</td>\n",
       "      <td>0.000000</td>\n",
       "      <td>0.000000</td>\n",
       "      <td>0.000000</td>\n",
       "      <td>0.000000</td>\n",
       "      <td>0.000000</td>\n",
       "      <td>0.0</td>\n",
       "      <td>1.000000</td>\n",
       "      <td>0.017226</td>\n",
       "    </tr>\n",
       "    <tr>\n",
       "      <th>48492</th>\n",
       "      <td>0.052264</td>\n",
       "      <td>0.013498</td>\n",
       "      <td>0.006880</td>\n",
       "      <td>0.008187</td>\n",
       "      <td>0.019289</td>\n",
       "      <td>0.033665</td>\n",
       "      <td>0.003885</td>\n",
       "      <td>0.038410</td>\n",
       "      <td>0.025809</td>\n",
       "      <td>0.030120</td>\n",
       "      <td>...</td>\n",
       "      <td>0.000000</td>\n",
       "      <td>0.014676</td>\n",
       "      <td>0.012536</td>\n",
       "      <td>0.014569</td>\n",
       "      <td>0.000000</td>\n",
       "      <td>0.000000</td>\n",
       "      <td>0.010758</td>\n",
       "      <td>0.0</td>\n",
       "      <td>0.017226</td>\n",
       "      <td>1.000000</td>\n",
       "    </tr>\n",
       "  </tbody>\n",
       "</table>\n",
       "<p>16214 rows × 16214 columns</p>\n",
       "</div>"
      ],
      "text/plain": [
       "MAL_ID     1         5         6         7         8         15        16     \\\n",
       "MAL_ID                                                                         \n",
       "1       1.000000  0.271822  0.046490  0.031206  0.012403  0.027094  0.012781   \n",
       "5       0.271822  1.000000  0.044624  0.033449  0.007127  0.031560  0.038316   \n",
       "6       0.046490  0.044624  1.000000  0.000000  0.010547  0.005848  0.009973   \n",
       "7       0.031206  0.033449  0.000000  1.000000  0.009356  0.031251  0.010091   \n",
       "8       0.012403  0.007127  0.010547  0.009356  1.000000  0.055794  0.016077   \n",
       "...          ...       ...       ...       ...       ...       ...       ...   \n",
       "48481   0.000000  0.000000  0.013714  0.000000  0.000000  0.012348  0.000000   \n",
       "48483   0.020457  0.020811  0.011155  0.018762  0.020261  0.040134  0.024941   \n",
       "48488   0.000000  0.000000  0.000000  0.000000  0.000000  0.000000  0.000000   \n",
       "48491   0.010168  0.000000  0.000000  0.000000  0.000000  0.000000  0.000000   \n",
       "48492   0.052264  0.013498  0.006880  0.008187  0.019289  0.033665  0.003885   \n",
       "\n",
       "MAL_ID     17        18        19     ...     48456     48466     48470  \\\n",
       "MAL_ID                                ...                                 \n",
       "1       0.023231  0.025364  0.015156  ...  0.000000  0.006996  0.017145   \n",
       "5       0.018972  0.017261  0.020030  ...  0.000000  0.018414  0.016502   \n",
       "6       0.008917  0.000000  0.026231  ...  0.000000  0.016119  0.025739   \n",
       "7       0.033333  0.015767  0.016795  ...  0.025568  0.059329  0.022586   \n",
       "8       0.023808  0.007991  0.014273  ...  0.000000  0.042606  0.010340   \n",
       "...          ...       ...       ...  ...       ...       ...       ...   \n",
       "48481   0.000000  0.034163  0.000000  ...  0.000000  0.000000  0.000000   \n",
       "48483   0.009443  0.028785  0.045575  ...  0.000000  0.000000  0.039570   \n",
       "48488   0.000000  0.000000  0.000000  ...  0.000000  0.000000  0.000000   \n",
       "48491   0.016793  0.000000  0.000000  ...  0.000000  0.000000  0.000000   \n",
       "48492   0.038410  0.025809  0.030120  ...  0.000000  0.014676  0.012536   \n",
       "\n",
       "MAL_ID     48471     48480     48481     48483  48488     48491     48492  \n",
       "MAL_ID                                                                     \n",
       "1       0.008457  0.000000  0.000000  0.020457    0.0  0.010168  0.052264  \n",
       "5       0.003167  0.000000  0.000000  0.020811    0.0  0.000000  0.013498  \n",
       "6       0.009053  0.013714  0.013714  0.011155    0.0  0.000000  0.006880  \n",
       "7       0.016189  0.000000  0.000000  0.018762    0.0  0.000000  0.008187  \n",
       "8       0.005697  0.000000  0.000000  0.020261    0.0  0.000000  0.019289  \n",
       "...          ...       ...       ...       ...    ...       ...       ...  \n",
       "48481   0.000000  1.000000  1.000000  0.000000    0.0  0.000000  0.000000  \n",
       "48483   0.031597  0.000000  0.000000  1.000000    0.0  0.000000  0.010758  \n",
       "48488   0.000000  0.000000  0.000000  0.000000    1.0  0.000000  0.000000  \n",
       "48491   0.000000  0.000000  0.000000  0.000000    0.0  1.000000  0.017226  \n",
       "48492   0.014569  0.000000  0.000000  0.010758    0.0  0.017226  1.000000  \n",
       "\n",
       "[16214 rows x 16214 columns]"
      ]
     },
     "execution_count": 17,
     "metadata": {},
     "output_type": "execute_result"
    }
   ],
   "source": [
    "cos_sim"
   ]
  },
  {
   "cell_type": "code",
   "execution_count": 16,
   "metadata": {},
   "outputs": [],
   "source": [
    "cos_sim.to_hdf('models/cos_sim.hdf', 'df', mode='w')"
   ]
  },
  {
   "cell_type": "code",
   "execution_count": 3,
   "metadata": {},
   "outputs": [],
   "source": [
    "df = pd.read_hdf('models/cos_sim.hdf', 'df')"
   ]
  },
  {
   "cell_type": "code",
   "execution_count": 54,
   "metadata": {},
   "outputs": [],
   "source": [
    "row = df.loc[1]\n",
    "row = row[(row < 1)&(row > .01)]"
   ]
  },
  {
   "cell_type": "code",
   "execution_count": 55,
   "metadata": {},
   "outputs": [],
   "source": [
    "index = row.index.values\n",
    "weights = row.values\n",
    "weights = weights / weights.sum()"
   ]
  },
  {
   "cell_type": "code",
   "execution_count": 56,
   "metadata": {},
   "outputs": [
    {
     "data": {
      "text/plain": [
       "array([ 5833,  1302, 28013, 16608, 30998])"
      ]
     },
     "execution_count": 56,
     "metadata": {},
     "output_type": "execute_result"
    }
   ],
   "source": [
    "idx = np.random.choice(index, p=weights, size=5)\n",
    "idx"
   ]
  },
  {
   "cell_type": "code",
   "execution_count": 57,
   "metadata": {},
   "outputs": [
    {
     "data": {
      "text/plain": [
       "MAL_ID\n",
       "5833     0.061608\n",
       "1302     0.067860\n",
       "28013    0.044230\n",
       "16608    0.038672\n",
       "30998    0.027077\n",
       "Name: 1, dtype: float64"
      ]
     },
     "execution_count": 57,
     "metadata": {},
     "output_type": "execute_result"
    }
   ],
   "source": [
    "row[idx]"
   ]
  },
  {
   "cell_type": "code",
   "execution_count": 58,
   "metadata": {},
   "outputs": [
    {
     "data": {
      "text/plain": [
       "array([    5,     6,     7, ..., 48483, 48491, 48492])"
      ]
     },
     "execution_count": 58,
     "metadata": {},
     "output_type": "execute_result"
    }
   ],
   "source": [
    "index"
   ]
  },
  {
   "cell_type": "code",
   "execution_count": 59,
   "metadata": {},
   "outputs": [
    {
     "data": {
      "text/plain": [
       "array([1.43927303e-03, 2.59509385e-04, 1.63606286e-04, ...,\n",
       "       1.07060307e-04, 5.33038616e-05, 2.73913032e-04])"
      ]
     },
     "execution_count": 59,
     "metadata": {},
     "output_type": "execute_result"
    }
   ],
   "source": [
    "weights"
   ]
  },
  {
   "cell_type": "code",
   "execution_count": 98,
   "metadata": {},
   "outputs": [],
   "source": [
    "q = np.percentile(row, 100 * (1-0.005))"
   ]
  },
  {
   "cell_type": "code",
   "execution_count": 100,
   "metadata": {},
   "outputs": [
    {
     "data": {
      "text/plain": [
       "99.5"
      ]
     },
     "execution_count": 100,
     "metadata": {},
     "output_type": "execute_result"
    }
   ],
   "source": [
    "100 * (1-0.005)"
   ]
  },
  {
   "cell_type": "code",
   "execution_count": 99,
   "metadata": {},
   "outputs": [
    {
     "data": {
      "text/plain": [
       "38"
      ]
     },
     "execution_count": 99,
     "metadata": {},
     "output_type": "execute_result"
    }
   ],
   "source": [
    "row[row>q].size"
   ]
  },
  {
   "cell_type": "code",
   "execution_count": 78,
   "metadata": {},
   "outputs": [
    {
     "data": {
      "text/plain": [
       "MAL_ID\n",
       "5        0.274653\n",
       "4240     0.202382\n",
       "36357    0.169663\n",
       "4037     0.161624\n",
       "1287     0.151076\n",
       "           ...   \n",
       "8525     0.010005\n",
       "39725    0.010002\n",
       "6431     0.010001\n",
       "37112    0.010001\n",
       "30721    0.010000\n",
       "Name: 1, Length: 7587, dtype: float64"
      ]
     },
     "execution_count": 78,
     "metadata": {},
     "output_type": "execute_result"
    }
   ],
   "source": [
    "row = row.sort_values(ascending=False)\n",
    "row"
   ]
  },
  {
   "cell_type": "code",
   "execution_count": 80,
   "metadata": {},
   "outputs": [],
   "source": [
    "import matplotlib.pyplot as plt"
   ]
  },
  {
   "cell_type": "code",
   "execution_count": 83,
   "metadata": {},
   "outputs": [
    {
     "data": {
      "image/png": "[encoded data removed]",
      "text/plain": [
       "<Figure size 640x480 with 1 Axes>"
      ]
     },
     "metadata": {},
     "output_type": "display_data"
    }
   ],
   "source": [
    "plt.hist(row, bins=100);"
   ]
  },
  {
   "cell_type": "code",
   "execution_count": 85,
   "metadata": {},
   "outputs": [
    {
     "data": {
      "text/plain": [
       "29"
      ]
     },
     "execution_count": 85,
     "metadata": {},
     "output_type": "execute_result"
    }
   ],
   "source": [
    "row[row > .1].size"
   ]
  },
  {
   "cell_type": "code",
   "execution_count": 86,
   "metadata": {},
   "outputs": [
    {
     "data": {
      "text/plain": [
       "0.003822327665744036"
      ]
     },
     "execution_count": 86,
     "metadata": {},
     "output_type": "execute_result"
    }
   ],
   "source": [
    "(row > .1).mean()"
   ]
  },
  {
   "cell_type": "code",
   "execution_count": 61,
   "metadata": {},
   "outputs": [
    {
     "data": {
      "text/plain": [
       "MAL_ID\n",
       "5        0.274653\n",
       "4240     0.202382\n",
       "36357    0.169663\n",
       "4037     0.161624\n",
       "1287     0.151076\n",
       "           ...   \n",
       "8525     0.010005\n",
       "39725    0.010002\n",
       "6431     0.010001\n",
       "37112    0.010001\n",
       "30721    0.010000\n",
       "Name: 1, Length: 7587, dtype: float64"
      ]
     },
     "execution_count": 61,
     "metadata": {},
     "output_type": "execute_result"
    }
   ],
   "source": [
    "row[index].sort_values(ascending=False)"
   ]
  },
  {
   "cell_type": "code",
   "execution_count": 15,
   "metadata": {},
   "outputs": [],
   "source": [
    "@np.vectorize\n",
    "def get_data(anime_id):\n",
    "\n",
    "    url = f'https://myanimelist.net/anime/{anime_id}'\n",
    "\n",
    "    request = requests.get(url)\n",
    "    html = request.content.decode('utf-8')\n",
    "    sel = scrapy.Selector(text=html)\n",
    "\n",
    "    xpath = '//p[@itemprop=\"description\"]/text()'\n",
    "    sinopse = ''.join(sel.xpath(xpath).extract())\n",
    "\n",
    "    xpath = '//img[@itemprop=\"image\"]/@data-src'\n",
    "    img_url = sel.xpath(xpath).extract_first()\n",
    "\n",
    "    xpath = '//a[@class=\"iframe js-fancybox-video video-unit promotion\"]/@href'\n",
    "    teaser_url = sel.xpath(xpath).extract_first()\n",
    "\n",
    "    return {\n",
    "        'url': url,\n",
    "        'sinopse': sinopse,\n",
    "        'image': img_url,\n",
    "        'teaser': teaser_url\n",
    "    }"
   ]
  },
  {
   "cell_type": "code",
   "execution_count": 16,
   "metadata": {},
   "outputs": [
    {
     "data": {
      "text/plain": [
       "array([{'url': 'https://myanimelist.net/anime/2884', 'sinopse': 'After the world ran out of all traditional energy sources, only one remained—human excrement. To encourage citizens to produce as much waste as possible, the government implants a chip in the anus at birth, which provides citizens with \"juicybars\" every time it detects defecation. Juicybars are highly addictive narcotics that sometimes transform their users into mutant blue dwarfs with extreme constipation. These mutant addicts make up the \"Diaper Gang,\" those who live underground and are focused on trying to obtain juicybars.\\r\\n\\r\\nAachi and Ssipak are two small-time crooks who steal and sell juicybars to make it on the streets. When they meet a beautiful woman who has the anal chips of every Diaper Gang member implanted in her, producing dozens of juicybars with every dump, Aachi and Ssipak strike it rich. However, with both the government and the Diaper Gang on their tails, the two struggle to protect their newfound riches.\\r\\n\\r\\n[Written by MAL Rewrite]', 'image': 'https://cdn.myanimelist.net/images/anime/2/4034.jpg', 'teaser': None},\n",
       "       {'url': 'https://myanimelist.net/anime/37926', 'sinopse': \"Iride Akatsuki has unlocked hidden content in the game he's playing, 'Nakanohito Genome,' and it turns out that this content is a real-life game!\\r\\n\\r\\nHe soon wakes up to find that he has been kidnapped and taken to a strange place, along with a number of other teammates. Each of them specializes in a certain sort of game, like cultivation games, fighting games, puzzle games, etc.\\r\\n\\r\\nA llama-headed 'teacher' gathers them after level 1 is cleared to explain how the game will proceed.\\r\\n\\r\\nWill this group of gamers succeed, and make it back to their real lives?\\r\\n\\r\\n(Source: MangaHelpers)\", 'image': 'https://cdn.myanimelist.net/images/anime/1725/102251.jpg', 'teaser': 'https://www.youtube.com/embed/inuhrp9tBYM?enablejsapi=1&wmode=opaque&autoplay=1'},\n",
       "       {'url': 'https://myanimelist.net/anime/30924', 'sinopse': \"As a new student, Eruna Ichinomiya meets various strangers, learns about their clubs, and helps them with their problems.\\r\\n\\r\\n\\r\\nEruna was hardly prepared to go to her new school, but that's no matter. Leading it off with an enormous stride, she will hop, step, and jump her way through, showing her unparalleled motivation and optimistic outlook. One, two, three—she'll shout out her excitement with the fire of a toy gun! \\r\\n\\r\\n\\r\\nAs an actor, Yuuto Akama is accustomed to playing different roles, and real life is just another one of these. He wears a practiced smile and a carefree attitude, but inside, a war is waging. A personality squashed and imprisoned... Yuuto puts down the coup d'état of his former self, all to maintain his perfect facade. But no matter how much time passes, the memories don't disappear, and he can never stop the flames of rebellion of his heart.\\r\\n\\r\\n\\r\\nWith a cheerful hop and skip, Himi Yasaka shows Eruna all the fun and excitement of the Calligraphy Club. It's a rhythmic and all-encompassing art; although calligraphy may take a bit of practice, anyone can do it. All you need is an ecstatic vivace!\\r\\n\\r\\n\\r\\nNo matter what saturation, contrast, or hue, painter Kyouma Kuzuryuu cannot create a work that is good enough. Everything, including himself, always falls short. He lies to himself that this is what he always wanted, but in the end, he is still another piece of trash. Is there any salvation for the lonesome and self-deprecating Kyouma?\\r\\n\\r\\n\\r\\nAsuhi Imizu has lived his life secluded from others. Gazing at the night sky through his telescope, he draws new constellations in his mind. However, like the sun after a rainstorm, Eruna brightens his life, helping him open up to others. Together, they view a 16-day-old moon; all the while, Asuhi is guided by her light.\\r\\n\\r\\n[Written by MAL Rewrite]\", 'image': 'https://cdn.myanimelist.net/images/anime/3/74422.jpg', 'teaser': None},\n",
       "       {'url': 'https://myanimelist.net/anime/2926', 'sinopse': 'In the peaceful little town of Sakuranomori, a group of young friends are about to bid farewell to one of their own. Due to his parents’ business plans, Sana Hidaka has to move away from his quiet childhood home to the boisterous city of Tokyo. Though it pains him, he must say goodbye to his precious friends—the kind-hearted Aoi Oribe, the spunky Wakatsuki twins, Shuri and Shuusuke, and the cheerful and upbeat Nanaka Yatsushiro. But even though he is reluctant to leave them behind, he believes that no matter how far apart they are, they will always cherish the memories of their friendship.\\r\\n\\r\\nFive years later, Sana, now a 16-year-old high school student, returns to his hometown with the hope of restoring his old life. However, he quickly realizes that although his town may not have changed drastically, the friends he left behind are not who they used to be. Unsettling shadows loom over Sakuranomori as his friends hold new secrets and bear burdens that threaten the bonds they once shared.\\r\\n\\r\\n[Written by MAL Rewrite]', 'image': 'https://cdn.myanimelist.net/images/anime/13/75247.jpg', 'teaser': None},\n",
       "       {'url': 'https://myanimelist.net/anime/143', 'sinopse': \" begins in the village of Mahoroba, where time passes slowly for both man and nature. Two students from the village's prestigious Ototachibana Academy might as well be night and day. Himeko is shy and unassertive, while Chikane is bold and elegant. Despite this, they love each other, and nothing can come between them, no matter how hard they try.\\r\\n\\r\\nOn the two girls' shared birthday, a sinister voice corrupts one of their friends into attacking them, and just when it seemed grimmest, the lunar and solar priestess powers that lay dormant in the two girls awaken, dispelling the evil. That was only the first hurdle, however. The two must now fend off the countless others who would threaten their well-being—even the people closest to them!\", 'image': 'https://cdn.myanimelist.net/images/anime/8/73955.jpg', 'teaser': None}],\n",
       "      dtype=object)"
      ]
     },
     "execution_count": 16,
     "metadata": {},
     "output_type": "execute_result"
    }
   ],
   "source": [
    "get_data(idx)"
   ]
  },
  {
   "cell_type": "code",
   "execution_count": null,
   "metadata": {},
   "outputs": [],
   "source": []
  }
 ],
 "metadata": {
  "kernelspec": {
   "display_name": "mlenv",
   "language": "python",
   "name": "python3"
  },
  "language_info": {
   "codemirror_mode": {
    "name": "ipython",
    "version": 3
   },
   "file_extension": ".py",
   "mimetype": "text/x-python",
   "name": "python",
   "nbconvert_exporter": "python",
   "pygments_lexer": "ipython3",
   "version": "3.10.8"
  },
  "orig_nbformat": 4,
  "vscode": {
   "interpreter": {
    "hash": "8a0ac0cb7a30b235b01ee98c06aa0c3de5a206a47d45e971b2f4fc467eca7389"
   }
  }
 },
 "nbformat": 4,
 "nbformat_minor": 2
}
