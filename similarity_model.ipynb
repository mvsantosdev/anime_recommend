{
 "cells": [
  {
   "cell_type": "code",
   "execution_count": 1,
   "metadata": {},
   "outputs": [],
   "source": [
    "import numpy as np\n",
    "\n",
    "import pandas as pd\n",
    "\n",
    "from tqdm import tqdm\n",
    "\n",
    "import spacy\n",
    "\n",
    "from sklearn.metrics.pairwise import cosine_similarity\n",
    "from sklearn.feature_extraction.text import TfidfVectorizer"
   ]
  },
  {
   "cell_type": "code",
   "execution_count": 2,
   "metadata": {},
   "outputs": [],
   "source": [
    "tqdm.pandas()"
   ]
  },
  {
   "cell_type": "code",
   "execution_count": 3,
   "metadata": {},
   "outputs": [],
   "source": [
    "df = pd.read_csv('archive/anime_with_synopsis.csv', index_col='MAL_ID', dtype=str)"
   ]
  },
  {
   "cell_type": "code",
   "execution_count": 4,
   "metadata": {},
   "outputs": [],
   "source": [
    "nlp = spacy.load('en_core_web_sm')"
   ]
  },
  {
   "cell_type": "code",
   "execution_count": 5,
   "metadata": {},
   "outputs": [],
   "source": [
    "sypnopsis = df.sypnopsis.dropna()"
   ]
  },
  {
   "cell_type": "code",
   "execution_count": 6,
   "metadata": {},
   "outputs": [
    {
     "name": "stderr",
     "output_type": "stream",
     "text": [
      "100%|██████████| 16206/16206 [02:21<00:00, 114.79it/s]\n"
     ]
    }
   ],
   "source": [
    "docs = sypnopsis.progress_apply(nlp)"
   ]
  },
  {
   "cell_type": "code",
   "execution_count": 7,
   "metadata": {},
   "outputs": [],
   "source": [
    "stopwords = spacy.lang.en.stop_words.STOP_WORDS\n",
    "\n",
    "def get_tokens(doc):\n",
    "    return [\n",
    "        token.text\n",
    "        for token in doc\n",
    "    ]\n",
    "    \n",
    "def get_lemmas(doc):\n",
    "    return ' '.join([\n",
    "        token.lemma_\n",
    "        for token in doc\n",
    "        if token.lemma_ not in stopwords\n",
    "        and token.lemma_.isalpha()\n",
    "    ])"
   ]
  },
  {
   "cell_type": "code",
   "execution_count": 8,
   "metadata": {},
   "outputs": [],
   "source": [
    "lemmas = docs.apply(get_lemmas)"
   ]
  },
  {
   "cell_type": "code",
   "execution_count": 9,
   "metadata": {},
   "outputs": [],
   "source": [
    "tfidf = TfidfVectorizer(min_df=100, max_df=0.9, ngram_range=(2, 10))"
   ]
  },
  {
   "cell_type": "code",
   "execution_count": 10,
   "metadata": {},
   "outputs": [],
   "source": [
    "vec_data = tfidf.fit_transform(lemmas)"
   ]
  },
  {
   "cell_type": "code",
   "execution_count": 11,
   "metadata": {},
   "outputs": [],
   "source": [
    "cos_sim = cosine_similarity(vec_data)\n",
    "cos_sim = pd.DataFrame(cos_sim, index=lemmas.index, columns=lemmas.index)"
   ]
  },
  {
   "cell_type": "code",
   "execution_count": 12,
   "metadata": {},
   "outputs": [
    {
     "data": {
      "text/plain": [
       "Int64Index([    1,     5,     6,     7,     8,    15,    16,    17,    18,\n",
       "               19,\n",
       "            ...\n",
       "            48456, 48466, 48470, 48471, 48480, 48481, 48483, 48488, 48491,\n",
       "            48492],\n",
       "           dtype='int64', name='MAL_ID', length=16206)"
      ]
     },
     "execution_count": 12,
     "metadata": {},
     "output_type": "execute_result"
    }
   ],
   "source": [
    "cos_sim.index"
   ]
  },
  {
   "cell_type": "code",
   "execution_count": 13,
   "metadata": {},
   "outputs": [],
   "source": [
    "sizes = {\n",
    "    idx: row[(row > np.percentile(row, 99.9))&(row < 1)].size\n",
    "    for idx, row in cos_sim.iterrows()\n",
    "}"
   ]
  },
  {
   "cell_type": "code",
   "execution_count": 14,
   "metadata": {},
   "outputs": [],
   "source": [
    "size = np.median([*sizes.values()]).astype(int)"
   ]
  },
  {
   "cell_type": "code",
   "execution_count": 15,
   "metadata": {},
   "outputs": [
    {
     "data": {
      "text/plain": [
       "0"
      ]
     },
     "execution_count": 15,
     "metadata": {},
     "output_type": "execute_result"
    }
   ],
   "source": [
    "size"
   ]
  },
  {
   "cell_type": "code",
   "execution_count": 16,
   "metadata": {},
   "outputs": [],
   "source": [
    "similarities = {\n",
    "    idx: row[~np.isclose(row, 1)].nlargest(size)\n",
    "    for idx, row in cos_sim.iterrows()\n",
    "}"
   ]
  },
  {
   "cell_type": "code",
   "execution_count": 17,
   "metadata": {},
   "outputs": [],
   "source": [
    "anime_id = pd.DataFrame({\n",
    "    key: value.index.values\n",
    "    for key, value in similarities.items()\n",
    "}).T\n",
    "\n",
    "anime_weight = pd.DataFrame({\n",
    "    key: value.values / value.values.sum()\n",
    "    for key, value in similarities.items()\n",
    "}).T"
   ]
  },
  {
   "cell_type": "code",
   "execution_count": 18,
   "metadata": {},
   "outputs": [],
   "source": [
    "weights = pd.concat((anime_id, anime_weight), keys=('MAL_ID', 'WEIGHT'), axis=1)"
   ]
  },
  {
   "cell_type": "code",
   "execution_count": 19,
   "metadata": {},
   "outputs": [],
   "source": [
    "weights.to_csv('models/weights.csv')"
   ]
  },
  {
   "cell_type": "code",
   "execution_count": null,
   "metadata": {},
   "outputs": [],
   "source": []
  }
 ],
 "metadata": {
  "kernelspec": {
   "display_name": "mlenv",
   "language": "python",
   "name": "python3"
  },
  "language_info": {
   "codemirror_mode": {
    "name": "ipython",
    "version": 3
   },
   "file_extension": ".py",
   "mimetype": "text/x-python",
   "name": "python",
   "nbconvert_exporter": "python",
   "pygments_lexer": "ipython3",
   "version": "3.10.9"
  },
  "orig_nbformat": 4,
  "vscode": {
   "interpreter": {
    "hash": "1cab4a9a02ba9d224942f1ffabdf6d58e87b00597d3fa1bb4fb6f453c6be8c97"
   }
  }
 },
 "nbformat": 4,
 "nbformat_minor": 2
}
