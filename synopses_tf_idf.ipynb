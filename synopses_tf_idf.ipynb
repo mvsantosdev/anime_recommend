{
 "cells": [
  {
   "cell_type": "code",
   "execution_count": 15,
   "metadata": {},
   "outputs": [],
   "source": [
    "import numpy as np\n",
    "\n",
    "import pandas as pd\n",
    "\n",
    "from tqdm import tqdm\n",
    "\n",
    "import spacy\n",
    "\n",
    "from sklearn.metrics.pairwise import cosine_similarity\n",
    "from sklearn.feature_extraction.text import TfidfVectorizer"
   ]
  },
  {
   "cell_type": "code",
   "execution_count": 16,
   "metadata": {},
   "outputs": [],
   "source": [
    "tqdm.pandas()"
   ]
  },
  {
   "cell_type": "code",
   "execution_count": 8,
   "metadata": {},
   "outputs": [],
   "source": [
    "df = pd.read_csv('raw/anime_with_synopsis.csv', index_col='MAL_ID', dtype=str)"
   ]
  },
  {
   "cell_type": "code",
   "execution_count": 9,
   "metadata": {},
   "outputs": [],
   "source": [
    "nlp = spacy.load('en_core_web_sm')"
   ]
  },
  {
   "cell_type": "code",
   "execution_count": 14,
   "metadata": {},
   "outputs": [],
   "source": [
    "sypnopsis = df.sypnopsis.dropna()"
   ]
  },
  {
   "cell_type": "code",
   "execution_count": 17,
   "metadata": {},
   "outputs": [
    {
     "name": "stderr",
     "output_type": "stream",
     "text": [
      "100%|██████████| 16206/16206 [02:19<00:00, 116.35it/s]\n"
     ]
    }
   ],
   "source": [
    "docs = sypnopsis.progress_apply(nlp)"
   ]
  },
  {
   "cell_type": "code",
   "execution_count": 18,
   "metadata": {},
   "outputs": [],
   "source": [
    "stopwords = spacy.lang.en.stop_words.STOP_WORDS\n",
    "\n",
    "def get_tokens(doc):\n",
    "    return [\n",
    "        token.text\n",
    "        for token in doc\n",
    "    ]\n",
    "    \n",
    "def get_lemmas(doc):\n",
    "    return ' '.join([\n",
    "        token.lemma_\n",
    "        for token in doc\n",
    "        if token.lemma_ not in stopwords\n",
    "        and token.lemma_.isalpha()\n",
    "    ])"
   ]
  },
  {
   "cell_type": "code",
   "execution_count": 19,
   "metadata": {},
   "outputs": [],
   "source": [
    "lemmas = docs.apply(get_lemmas)"
   ]
  },
  {
   "cell_type": "code",
   "execution_count": 48,
   "metadata": {},
   "outputs": [],
   "source": [
    "tfidf = TfidfVectorizer(min_df=100, max_df=0.9)"
   ]
  },
  {
   "cell_type": "code",
   "execution_count": 49,
   "metadata": {},
   "outputs": [],
   "source": [
    "vec_data = tfidf.fit_transform(lemmas)"
   ]
  },
  {
   "cell_type": "code",
   "execution_count": 50,
   "metadata": {},
   "outputs": [],
   "source": [
    "cos_sim = cosine_similarity(vec_data)\n",
    "cos_sim = pd.DataFrame(cos_sim, index=lemmas.index, columns=lemmas.index)"
   ]
  },
  {
   "cell_type": "code",
   "execution_count": 51,
   "metadata": {},
   "outputs": [
    {
     "data": {
      "text/plain": [
       "Int64Index([    1,     5,     6,     7,     8,    15,    16,    17,    18,\n",
       "               19,\n",
       "            ...\n",
       "            48456, 48466, 48470, 48471, 48480, 48481, 48483, 48488, 48491,\n",
       "            48492],\n",
       "           dtype='int64', name='MAL_ID', length=16206)"
      ]
     },
     "execution_count": 51,
     "metadata": {},
     "output_type": "execute_result"
    }
   ],
   "source": [
    "cos_sim.index"
   ]
  },
  {
   "cell_type": "code",
   "execution_count": 59,
   "metadata": {},
   "outputs": [],
   "source": [
    "sizes = {\n",
    "    idx: row[(row > np.percentile(row, 99.9))&(row < 1)].size\n",
    "    for idx, row in cos_sim.iterrows()\n",
    "}"
   ]
  },
  {
   "cell_type": "code",
   "execution_count": 60,
   "metadata": {},
   "outputs": [],
   "source": [
    "size = np.median([*sizes.values()]).astype(int)"
   ]
  },
  {
   "cell_type": "code",
   "execution_count": 61,
   "metadata": {},
   "outputs": [
    {
     "data": {
      "text/plain": [
       "16"
      ]
     },
     "execution_count": 61,
     "metadata": {},
     "output_type": "execute_result"
    }
   ],
   "source": [
    "size"
   ]
  },
  {
   "cell_type": "code",
   "execution_count": 62,
   "metadata": {},
   "outputs": [],
   "source": [
    "similarities = {\n",
    "    idx: row[~np.isclose(row, 1)].nlargest(size)\n",
    "    for idx, row in cos_sim.iterrows()\n",
    "}"
   ]
  },
  {
   "cell_type": "code",
   "execution_count": 63,
   "metadata": {},
   "outputs": [
    {
     "name": "stderr",
     "output_type": "stream",
     "text": [
      "/tmp/ipykernel_8808/1920444742.py:7: RuntimeWarning: invalid value encountered in divide\n",
      "  key: value.values / value.values.sum()\n"
     ]
    }
   ],
   "source": [
    "anime_id = pd.DataFrame({\n",
    "    key: value.index.values\n",
    "    for key, value in similarities.items()\n",
    "}).T\n",
    "\n",
    "anime_weight = pd.DataFrame({\n",
    "    key: value.values / value.values.sum()\n",
    "    for key, value in similarities.items()\n",
    "}).T"
   ]
  },
  {
   "cell_type": "code",
   "execution_count": 64,
   "metadata": {},
   "outputs": [],
   "source": [
    "weights = pd.concat((anime_id, anime_weight), keys=('MAL_ID', 'WEIGHT'), axis=1)"
   ]
  },
  {
   "cell_type": "code",
   "execution_count": 65,
   "metadata": {},
   "outputs": [],
   "source": [
    "weights.to_csv('models/weights.csv')"
   ]
  },
  {
   "cell_type": "code",
   "execution_count": null,
   "metadata": {},
   "outputs": [],
   "source": []
  }
 ],
 "metadata": {
  "kernelspec": {
   "display_name": "Machine Learning",
   "language": "python",
   "name": "mlenv"
  },
  "language_info": {
   "codemirror_mode": {
    "name": "ipython",
    "version": 3
   },
   "file_extension": ".py",
   "mimetype": "text/x-python",
   "name": "python",
   "nbconvert_exporter": "python",
   "pygments_lexer": "ipython3",
   "version": "3.10.8"
  },
  "orig_nbformat": 4,
  "vscode": {
   "interpreter": {
    "hash": "8a0ac0cb7a30b235b01ee98c06aa0c3de5a206a47d45e971b2f4fc467eca7389"
   }
  }
 },
 "nbformat": 4,
 "nbformat_minor": 2
}
